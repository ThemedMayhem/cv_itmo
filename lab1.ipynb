{
 "cells": [
  {
   "cell_type": "code",
   "execution_count": 2,
   "id": "19da5e62",
   "metadata": {},
   "outputs": [],
   "source": [
    "import numpy as np\n",
    "import cv2 as cv\n",
    "import time\n",
    "from numba import njit"
   ]
  },
  {
   "cell_type": "markdown",
   "id": "c2298c46",
   "metadata": {},
   "source": [
    "## with opencv"
   ]
  },
  {
   "cell_type": "code",
   "execution_count": 3,
   "id": "1983beab",
   "metadata": {},
   "outputs": [
    {
     "name": "stdout",
     "output_type": "stream",
     "text": [
      "7.77\n"
     ]
    }
   ],
   "source": [
    "start = time.time()\n",
    "cap = cv.VideoCapture('Narrow_Neck_BW_1.mov')\n",
    "fl_to_show=1\n",
    "fourcc = cv.VideoWriter_fourcc(*'XVID')\n",
    "out = cv.VideoWriter('output.avi', fourcc, 20.0, (1440,  810),False)\n",
    "while cap.isOpened():\n",
    "    ret, frame = cap.read()\n",
    "    if not ret:\n",
    "        break\n",
    "    frame = cv.resize(frame, (1440, 810))\n",
    "    frame = cv.cvtColor(frame, cv.COLOR_BGR2GRAY)\n",
    "#     ret_prep,thresh = cv.threshold(frame,127,255,cv.THRESH_BINARY)\n",
    "#     ret_prep,thresh = cv.threshold(frame,127,255,cv.THRESH_BINARY_INV)\n",
    "    thresh = cv.adaptiveThreshold(frame,255,cv.ADAPTIVE_THRESH_MEAN_C,\\\n",
    "                                  cv.THRESH_BINARY,11,2)\n",
    "    out.write(thresh)\n",
    "#     thresh = cv.adaptiveThreshold(frame,255,cv.ADAPTIVE_THRESH_GAUSSIAN_C,\\\n",
    "#             cv.THRESH_BINARY,11,2)\n",
    "    if cv.waitKey(1) == ord('2'):\n",
    "        if fl_to_show==1: fl_to_show = 2\n",
    "        else: fl_to_show = 1\n",
    "    if fl_to_show==1:\n",
    "        frame_to_show = frame   \n",
    "    else: \n",
    "        frame_to_show = thresh\n",
    "        \n",
    "    cv.imshow('frame', frame_to_show)\n",
    "    if cv.waitKey(1) == ord('q'):\n",
    "        break\n",
    "cap.release()\n",
    "out.release()\n",
    "cv.destroyAllWindows()\n",
    "end = time.time()\n",
    "print(round((end-start),2))"
   ]
  },
  {
   "cell_type": "markdown",
   "id": "19eaa292",
   "metadata": {},
   "source": [
    "##  native python"
   ]
  },
  {
   "cell_type": "code",
   "execution_count": 3,
   "id": "9f1f1a50",
   "metadata": {},
   "outputs": [],
   "source": [
    "def adaptive_binarization_mean(frame,blockSize, constant, const2):\n",
    "    height = np.shape(frame)[0]//blockSize\n",
    "    width = np.shape(frame)[1]//blockSize\n",
    "    frame_binary = frame\n",
    "    for h in range(height):\n",
    "        for w in range(width):\n",
    "            s = 0\n",
    "            for i in range(blockSize):\n",
    "                for j in range(blockSize):\n",
    "                    s = s + frame[h*blockSize+i][w*blockSize+j]\n",
    "            threshhold = const2*(s/(blockSize**2)) - constant\n",
    "            for i in range(blockSize):\n",
    "                for j in range(blockSize):\n",
    "                    if frame_binary[h*blockSize+i][w*blockSize+j]>threshhold:\n",
    "                        frame_binary[h*blockSize+i][w*blockSize+j]=255\n",
    "                    else: frame_binary[h*blockSize+i][w*blockSize+j] = 0\n",
    "                   \n",
    "    return frame_binary"
   ]
  },
  {
   "cell_type": "code",
   "execution_count": null,
   "id": "d44a342c",
   "metadata": {},
   "outputs": [],
   "source": [
    "start = time.time()\n",
    "cap = cv.VideoCapture('Narrow_Neck_BW_1.mov')\n",
    "fl_to_show=1\n",
    "fourcc = cv.VideoWriter_fourcc(*'XVID')\n",
    "height = 810\n",
    "width = 1440\n",
    "blocksize = 11\n",
    "constant = 2\n",
    "const2 = 1.05\n",
    "out = cv.VideoWriter('output.avi', fourcc, 20.0, (width,  height),False)\n",
    "while cap.isOpened():\n",
    "    ret, frame = cap.read()\n",
    "    if not ret:\n",
    "        break\n",
    "    frame = cv.cvtColor(frame, cv.COLOR_BGR2GRAY)\n",
    "    frame2 = frame\n",
    "    frame = cv.resize(frame, (width//blocksize*blocksize, height//blocksize*blocksize))\n",
    "\n",
    "    \n",
    "    thresh = adaptive_binarization_mean(frame2,blocksize,constant,const2)\n",
    "    thresh = cv.resize(thresh, (width, height))\n",
    "    frame = cv.resize(frame, (width, height))\n",
    "    out.write(thresh)\n",
    "    if cv.waitKey(25) == ord('2'):\n",
    "        if fl_to_show==1: fl_to_show = 2\n",
    "        else: fl_to_show = 1\n",
    "    if fl_to_show==1:\n",
    "        frame_to_show = frame   \n",
    "    else: \n",
    "        frame_to_show = thresh\n",
    "        \n",
    "    cv.imshow('frame', frame_to_show)\n",
    "    if cv.waitKey(1) == ord('q'):\n",
    "        break\n",
    "cap.release()\n",
    "cv.destroyAllWindows()\n",
    "end = time.time()\n",
    "print(round((end-start),2))"
   ]
  },
  {
   "cell_type": "markdown",
   "id": "4a9ab667",
   "metadata": {},
   "source": [
    "## with numba"
   ]
  },
  {
   "cell_type": "code",
   "execution_count": 6,
   "id": "e0ac850b",
   "metadata": {},
   "outputs": [],
   "source": [
    "@njit\n",
    "def adaptive_binarization_mean(frame,blockSize, constant, const2):\n",
    "    height = np.shape(frame)[0]//blockSize\n",
    "    width = np.shape(frame)[1]//blockSize\n",
    "    frame_binary = frame\n",
    "    for h in range(height):\n",
    "        for w in range(width):\n",
    "            s = 0\n",
    "            for i in range(blockSize):\n",
    "                for j in range(blockSize):\n",
    "                    s = s + frame[h*blockSize+i][w*blockSize+j]\n",
    "            threshhold = const2*(s/(blockSize**2)) - constant\n",
    "            for i in range(blockSize):\n",
    "                for j in range(blockSize):\n",
    "                    if frame_binary[h*blockSize+i][w*blockSize+j]>threshhold:\n",
    "                        frame_binary[h*blockSize+i][w*blockSize+j]=255\n",
    "                    else: frame_binary[h*blockSize+i][w*blockSize+j] = 0\n",
    "                   \n",
    "    return frame_binary"
   ]
  },
  {
   "cell_type": "code",
   "execution_count": 5,
   "id": "10d2e390",
   "metadata": {},
   "outputs": [
    {
     "name": "stdout",
     "output_type": "stream",
     "text": [
      "15.5\n"
     ]
    }
   ],
   "source": [
    "start = time.time()\n",
    "cap = cv.VideoCapture('Narrow_Neck_BW_1.mov')\n",
    "fl_to_show=1\n",
    "fourcc = cv.VideoWriter_fourcc(*'XVID')\n",
    "height = 810\n",
    "width = 1440\n",
    "blocksize = 11\n",
    "constant = 2\n",
    "const2 = 1.05\n",
    "out = cv.VideoWriter('output.avi', fourcc, 20.0, (width,  height),False)\n",
    "while cap.isOpened():\n",
    "    ret, frame = cap.read()\n",
    "    if not ret:\n",
    "        break\n",
    "    frame = cv.cvtColor(frame, cv.COLOR_BGR2GRAY)\n",
    "    frame2 = frame\n",
    "    frame = cv.resize(frame, (width//blocksize*blocksize, height//blocksize*blocksize))\n",
    "\n",
    "    \n",
    "    thresh = adaptive_binarization_mean(frame2,blocksize,constant,const2)\n",
    "    thresh = cv.resize(thresh, (width, height))\n",
    "    frame = cv.resize(frame, (width, height))\n",
    "    out.write(thresh)\n",
    "    if cv.waitKey(25) == ord('2'):\n",
    "        if fl_to_show==1: fl_to_show = 2\n",
    "        else: fl_to_show = 1\n",
    "    if fl_to_show==1:\n",
    "        frame_to_show = frame   \n",
    "    else: \n",
    "        frame_to_show = thresh\n",
    "        \n",
    "    cv.imshow('frame', frame_to_show)\n",
    "    if cv.waitKey(1) == ord('q'):\n",
    "        break\n",
    "cap.release()\n",
    "cv.destroyAllWindows()\n",
    "end = time.time()\n",
    "print(round((end-start),2))"
   ]
  },
  {
   "cell_type": "code",
   "execution_count": null,
   "id": "6bb48715",
   "metadata": {},
   "outputs": [],
   "source": []
  }
 ],
 "metadata": {
  "kernelspec": {
   "display_name": "Python 3 (ipykernel)",
   "language": "python",
   "name": "python3"
  },
  "language_info": {
   "codemirror_mode": {
    "name": "ipython",
    "version": 3
   },
   "file_extension": ".py",
   "mimetype": "text/x-python",
   "name": "python",
   "nbconvert_exporter": "python",
   "pygments_lexer": "ipython3",
   "version": "3.9.12"
  }
 },
 "nbformat": 4,
 "nbformat_minor": 5
}
